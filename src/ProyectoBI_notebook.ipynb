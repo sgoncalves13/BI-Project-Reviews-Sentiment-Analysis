{
  "cells": [
    {
      "cell_type": "markdown",
      "metadata": {
        "id": "wwG-ABsifyD_"
      },
      "source": [
        "# **Proyecto Turismo de los Alpes**"
      ]
    },
    {
      "cell_type": "markdown",
      "metadata": {
        "id": "BIQ_vPvdUCL-"
      },
      "source": [
        "# **1. Entendimiento de los datos**"
      ]
    },
    {
      "cell_type": "code",
      "execution_count": 50,
      "metadata": {
        "colab": {
          "base_uri": "https://localhost:8080/"
        },
        "id": "9_XHllWlV6h_",
        "outputId": "176cc18a-f4bd-4108-ae5c-86c411d50d8e"
      },
      "outputs": [
        {
          "name": "stdout",
          "output_type": "stream",
          "text": [
            "Requirement already satisfied: unidecode in c:\\users\\hp\\appdata\\local\\programs\\python\\python311\\lib\\site-packages (1.3.8)"
          ]
        },
        {
          "name": "stderr",
          "output_type": "stream",
          "text": [
            "\n",
            "[notice] A new release of pip is available: 23.3.1 -> 24.0\n",
            "[notice] To update, run: python.exe -m pip install --upgrade pip\n"
          ]
        },
        {
          "name": "stdout",
          "output_type": "stream",
          "text": [
            "\n",
            "Requirement already satisfied: num2words in c:\\users\\hp\\appdata\\local\\programs\\python\\python311\\lib\\site-packages (0.5.13)\n",
            "Requirement already satisfied: docopt>=0.6.2 in c:\\users\\hp\\appdata\\local\\programs\\python\\python311\\lib\\site-packages (from num2words) (0.6.2)\n"
          ]
        },
        {
          "name": "stderr",
          "output_type": "stream",
          "text": [
            "\n",
            "[notice] A new release of pip is available: 23.3.1 -> 24.0\n",
            "[notice] To update, run: python.exe -m pip install --upgrade pip\n"
          ]
        },
        {
          "name": "stdout",
          "output_type": "stream",
          "text": [
            "Requirement already satisfied: nltk in c:\\users\\hp\\appdata\\local\\programs\\python\\python311\\lib\\site-packages (3.8.1)\n",
            "Requirement already satisfied: click in c:\\users\\hp\\appdata\\local\\programs\\python\\python311\\lib\\site-packages (from nltk) (8.1.7)\n",
            "Requirement already satisfied: joblib in c:\\users\\hp\\appdata\\local\\programs\\python\\python311\\lib\\site-packages (from nltk) (1.3.2)\n",
            "Requirement already satisfied: regex>=2021.8.3 in c:\\users\\hp\\appdata\\local\\programs\\python\\python311\\lib\\site-packages (from nltk) (2023.12.25)\n",
            "Requirement already satisfied: tqdm in c:\\users\\hp\\appdata\\local\\programs\\python\\python311\\lib\\site-packages (from nltk) (4.66.2)\n",
            "Requirement already satisfied: colorama in c:\\users\\hp\\appdata\\roaming\\python\\python311\\site-packages (from click->nltk) (0.4.6)\n"
          ]
        },
        {
          "name": "stderr",
          "output_type": "stream",
          "text": [
            "\n",
            "[notice] A new release of pip is available: 23.3.1 -> 24.0\n",
            "[notice] To update, run: python.exe -m pip install --upgrade pip\n"
          ]
        },
        {
          "name": "stdout",
          "output_type": "stream",
          "text": [
            "Requirement already satisfied: joblib in c:\\users\\hp\\appdata\\local\\programs\\python\\python311\\lib\\site-packages (1.3.2)\n"
          ]
        },
        {
          "name": "stderr",
          "output_type": "stream",
          "text": [
            "\n",
            "[notice] A new release of pip is available: 23.3.1 -> 24.0\n",
            "[notice] To update, run: python.exe -m pip install --upgrade pip\n"
          ]
        },
        {
          "name": "stdout",
          "output_type": "stream",
          "text": [
            "Requirement already satisfied: fastapi in c:\\users\\hp\\appdata\\local\\programs\\python\\python311\\lib\\site-packages (0.110.1)\n",
            "Requirement already satisfied: pydantic!=1.8,!=1.8.1,!=2.0.0,!=2.0.1,!=2.1.0,<3.0.0,>=1.7.4 in c:\\users\\hp\\appdata\\local\\programs\\python\\python311\\lib\\site-packages (from fastapi) (2.6.4)\n",
            "Requirement already satisfied: starlette<0.38.0,>=0.37.2 in c:\\users\\hp\\appdata\\local\\programs\\python\\python311\\lib\\site-packages (from fastapi) (0.37.2)\n",
            "Requirement already satisfied: typing-extensions>=4.8.0 in c:\\users\\hp\\appdata\\local\\programs\\python\\python311\\lib\\site-packages (from fastapi) (4.8.0)\n",
            "Requirement already satisfied: annotated-types>=0.4.0 in c:\\users\\hp\\appdata\\local\\programs\\python\\python311\\lib\\site-packages (from pydantic!=1.8,!=1.8.1,!=2.0.0,!=2.0.1,!=2.1.0,<3.0.0,>=1.7.4->fastapi) (0.6.0)\n",
            "Requirement already satisfied: pydantic-core==2.16.3 in c:\\users\\hp\\appdata\\local\\programs\\python\\python311\\lib\\site-packages (from pydantic!=1.8,!=1.8.1,!=2.0.0,!=2.0.1,!=2.1.0,<3.0.0,>=1.7.4->fastapi) (2.16.3)\n",
            "Requirement already satisfied: anyio<5,>=3.4.0 in c:\\users\\hp\\appdata\\local\\programs\\python\\python311\\lib\\site-packages (from starlette<0.38.0,>=0.37.2->fastapi) (4.3.0)\n",
            "Requirement already satisfied: idna>=2.8 in c:\\users\\hp\\appdata\\local\\programs\\python\\python311\\lib\\site-packages (from anyio<5,>=3.4.0->starlette<0.38.0,>=0.37.2->fastapi) (3.6)\n",
            "Requirement already satisfied: sniffio>=1.1 in c:\\users\\hp\\appdata\\local\\programs\\python\\python311\\lib\\site-packages (from anyio<5,>=3.4.0->starlette<0.38.0,>=0.37.2->fastapi) (1.3.1)\n"
          ]
        },
        {
          "name": "stderr",
          "output_type": "stream",
          "text": [
            "\n",
            "[notice] A new release of pip is available: 23.3.1 -> 24.0\n",
            "[notice] To update, run: python.exe -m pip install --upgrade pip\n"
          ]
        },
        {
          "name": "stdout",
          "output_type": "stream",
          "text": [
            "Requirement already satisfied: uvicorn[standard] in c:\\users\\hp\\appdata\\local\\programs\\python\\python311\\lib\\site-packages (0.29.0)\n",
            "Requirement already satisfied: click>=7.0 in c:\\users\\hp\\appdata\\local\\programs\\python\\python311\\lib\\site-packages (from uvicorn[standard]) (8.1.7)\n",
            "Requirement already satisfied: h11>=0.8 in c:\\users\\hp\\appdata\\local\\programs\\python\\python311\\lib\\site-packages (from uvicorn[standard]) (0.14.0)\n",
            "Requirement already satisfied: colorama>=0.4 in c:\\users\\hp\\appdata\\roaming\\python\\python311\\site-packages (from uvicorn[standard]) (0.4.6)\n",
            "Requirement already satisfied: httptools>=0.5.0 in c:\\users\\hp\\appdata\\local\\programs\\python\\python311\\lib\\site-packages (from uvicorn[standard]) (0.6.1)\n",
            "Requirement already satisfied: python-dotenv>=0.13 in c:\\users\\hp\\appdata\\local\\programs\\python\\python311\\lib\\site-packages (from uvicorn[standard]) (1.0.1)\n",
            "Requirement already satisfied: pyyaml>=5.1 in c:\\users\\hp\\appdata\\local\\programs\\python\\python311\\lib\\site-packages (from uvicorn[standard]) (6.0.1)\n",
            "Requirement already satisfied: watchfiles>=0.13 in c:\\users\\hp\\appdata\\local\\programs\\python\\python311\\lib\\site-packages (from uvicorn[standard]) (0.21.0)\n",
            "Requirement already satisfied: websockets>=10.4 in c:\\users\\hp\\appdata\\local\\programs\\python\\python311\\lib\\site-packages (from uvicorn[standard]) (12.0)\n",
            "Requirement already satisfied: anyio>=3.0.0 in c:\\users\\hp\\appdata\\local\\programs\\python\\python311\\lib\\site-packages (from watchfiles>=0.13->uvicorn[standard]) (4.3.0)\n",
            "Requirement already satisfied: idna>=2.8 in c:\\users\\hp\\appdata\\local\\programs\\python\\python311\\lib\\site-packages (from anyio>=3.0.0->watchfiles>=0.13->uvicorn[standard]) (3.6)\n",
            "Requirement already satisfied: sniffio>=1.1 in c:\\users\\hp\\appdata\\local\\programs\\python\\python311\\lib\\site-packages (from anyio>=3.0.0->watchfiles>=0.13->uvicorn[standard]) (1.3.1)\n"
          ]
        },
        {
          "name": "stderr",
          "output_type": "stream",
          "text": [
            "\n",
            "[notice] A new release of pip is available: 23.3.1 -> 24.0\n",
            "[notice] To update, run: python.exe -m pip install --upgrade pip\n"
          ]
        },
        {
          "name": "stdout",
          "output_type": "stream",
          "text": [
            "Collecting imbalanced-learn\n",
            "  Downloading imbalanced_learn-0.12.2-py3-none-any.whl.metadata (8.2 kB)\n",
            "Requirement already satisfied: numpy>=1.17.3 in c:\\users\\hp\\appdata\\local\\programs\\python\\python311\\lib\\site-packages (from imbalanced-learn) (1.25.2)\n",
            "Requirement already satisfied: scipy>=1.5.0 in c:\\users\\hp\\appdata\\local\\programs\\python\\python311\\lib\\site-packages (from imbalanced-learn) (1.11.4)\n",
            "Requirement already satisfied: scikit-learn>=1.0.2 in c:\\users\\hp\\appdata\\local\\programs\\python\\python311\\lib\\site-packages (from imbalanced-learn) (1.4.1.post1)\n",
            "Requirement already satisfied: joblib>=1.1.1 in c:\\users\\hp\\appdata\\local\\programs\\python\\python311\\lib\\site-packages (from imbalanced-learn) (1.3.2)\n",
            "Requirement already satisfied: threadpoolctl>=2.0.0 in c:\\users\\hp\\appdata\\local\\programs\\python\\python311\\lib\\site-packages (from imbalanced-learn) (3.2.0)\n",
            "Downloading imbalanced_learn-0.12.2-py3-none-any.whl (257 kB)\n",
            "   ---------------------------------------- 0.0/258.0 kB ? eta -:--:--\n",
            "   ---- ----------------------------------- 30.7/258.0 kB ? eta -:--:--\n",
            "   --------- ------------------------------ 61.4/258.0 kB 1.1 MB/s eta 0:00:01\n",
            "   --------- ------------------------------ 61.4/258.0 kB 1.1 MB/s eta 0:00:01\n",
            "   --------- ------------------------------ 61.4/258.0 kB 1.1 MB/s eta 0:00:01\n",
            "   --------- ------------------------------ 61.4/258.0 kB 1.1 MB/s eta 0:00:01\n",
            "   --------- ------------------------------ 61.4/258.0 kB 1.1 MB/s eta 0:00:01\n",
            "   --------- ------------------------------ 61.4/258.0 kB 1.1 MB/s eta 0:00:01\n",
            "   --------- ------------------------------ 61.4/258.0 kB 1.1 MB/s eta 0:00:01\n",
            "   --------- ------------------------------ 61.4/258.0 kB 1.1 MB/s eta 0:00:01\n",
            "   --------- ------------------------------ 61.4/258.0 kB 1.1 MB/s eta 0:00:01\n",
            "   --------- ------------------------------ 61.4/258.0 kB 1.1 MB/s eta 0:00:01\n",
            "   --------- ------------------------------ 61.4/258.0 kB 1.1 MB/s eta 0:00:01\n",
            "   ---------------------------- --------- 194.6/258.0 kB 328.0 kB/s eta 0:00:01\n",
            "   ---------------------------- --------- 194.6/258.0 kB 328.0 kB/s eta 0:00:01\n",
            "   ------------------------------ ------- 204.8/258.0 kB 311.3 kB/s eta 0:00:01\n",
            "   --------------------------------- ---- 225.3/258.0 kB 313.0 kB/s eta 0:00:01\n",
            "   ------------------------------------ - 245.8/258.0 kB 320.9 kB/s eta 0:00:01\n",
            "   -------------------------------------- 258.0/258.0 kB 317.2 kB/s eta 0:00:00\n",
            "Installing collected packages: imbalanced-learn\n",
            "Successfully installed imbalanced-learn-0.12.2\n"
          ]
        },
        {
          "name": "stderr",
          "output_type": "stream",
          "text": [
            "\n",
            "[notice] A new release of pip is available: 23.3.1 -> 24.0\n",
            "[notice] To update, run: python.exe -m pip install --upgrade pip\n"
          ]
        }
      ],
      "source": [
        "!pip install unidecode\n",
        "!pip install num2words\n",
        "!pip install nltk\n",
        "!pip install joblib\n",
        "!pip install fastapi\n",
        "!pip install \"uvicorn[standard]\"\n",
        "!pip install imbalanced-learn\n"
      ]
    },
    {
      "cell_type": "code",
      "execution_count": 51,
      "metadata": {
        "id": "ZT6_pmrNVYQL"
      },
      "outputs": [],
      "source": [
        "# Cargar librerias\n",
        "\n",
        "import pandas as pd\n",
        "import matplotlib.pyplot as plt\n",
        "import numpy as np\n",
        "import re\n",
        "import nltk\n",
        "from nltk.corpus import stopwords\n",
        "from nltk.stem import WordNetLemmatizer\n",
        "from nltk.tokenize import word_tokenize\n",
        "from nltk.stem import SnowballStemmer\n",
        "from unidecode import unidecode\n",
        "from num2words import num2words\n",
        "from sklearn.feature_extraction.text import TfidfVectorizer\n",
        "from sklearn.model_selection import train_test_split\n",
        "from sklearn.tree import DecisionTreeClassifier\n",
        "from sklearn.metrics import confusion_matrix, classification_report, ConfusionMatrixDisplay\n",
        "from sklearn.svm import SVC\n",
        "from sklearn.linear_model import LogisticRegression\n",
        "from sklearn.pipeline import Pipeline\n",
        "from imblearn.over_sampling import SMOTE\n",
        "import joblib"
      ]
    },
    {
      "cell_type": "code",
      "execution_count": 28,
      "metadata": {
        "colab": {
          "base_uri": "https://localhost:8080/"
        },
        "id": "lH0UXO0NV_Ay",
        "outputId": "df3e0fc2-638d-414d-c3fb-c24a2feea944"
      },
      "outputs": [
        {
          "name": "stderr",
          "output_type": "stream",
          "text": [
            "[nltk_data] Downloading package wordnet to\n",
            "[nltk_data]     C:\\Users\\HP\\AppData\\Roaming\\nltk_data...\n",
            "[nltk_data]   Package wordnet is already up-to-date!\n",
            "[nltk_data] Downloading package stopwords to\n",
            "[nltk_data]     C:\\Users\\HP\\AppData\\Roaming\\nltk_data...\n",
            "[nltk_data]   Package stopwords is already up-to-date!\n",
            "[nltk_data] Downloading package punkt to\n",
            "[nltk_data]     C:\\Users\\HP\\AppData\\Roaming\\nltk_data...\n",
            "[nltk_data]   Package punkt is already up-to-date!\n"
          ]
        },
        {
          "data": {
            "text/plain": [
              "True"
            ]
          },
          "execution_count": 28,
          "metadata": {},
          "output_type": "execute_result"
        }
      ],
      "source": [
        "nltk.download(\"wordnet\")\n",
        "nltk.download(\"stopwords\")\n",
        "nltk.download(\"punkt\")"
      ]
    },
    {
      "cell_type": "code",
      "execution_count": 29,
      "metadata": {
        "colab": {
          "base_uri": "https://localhost:8080/"
        },
        "id": "MihmkMhVVgrg",
        "outputId": "d3cac2e1-154a-4bcd-a437-803596f6805c"
      },
      "outputs": [
        {
          "name": "stdout",
          "output_type": "stream",
          "text": [
            "                                              Review  Class\n",
            "0  Muy buena atención y aclaración de dudas por p...      5\n",
            "1  Buen hotel si están obligados a estar cerca de...      3\n",
            "2  Es un lugar muy lindo para fotografías, visite...      5\n",
            "3  Abusados con la factura de alimentos siempre s...      3\n",
            "4  Tuvimos un par de personas en el grupo que rea...      3\n"
          ]
        }
      ],
      "source": [
        "# Cargar datos\n",
        "df = pd.read_csv(\"../data/tipo2_entrenamiento_estudiantes.csv\")\n",
        "print(df.head())"
      ]
    },
    {
      "cell_type": "code",
      "execution_count": 30,
      "metadata": {
        "colab": {
          "base_uri": "https://localhost:8080/"
        },
        "id": "wrbaiYkVV4TP",
        "outputId": "7f6e8d15-038b-4401-8e72-118adfc324e3"
      },
      "outputs": [
        {
          "name": "stdout",
          "output_type": "stream",
          "text": [
            "(7875, 2)\n",
            "Review    object\n",
            "Class      int64\n",
            "dtype: object\n"
          ]
        }
      ],
      "source": [
        "# Indentificar información general de los datos\n",
        "\n",
        "print(df.shape)\n",
        "print(df.dtypes)"
      ]
    },
    {
      "cell_type": "markdown",
      "metadata": {
        "id": "JPsApHh4sK3b"
      },
      "source": [
        "Se compartieron datos de 7875 reseñas de turistas de los cuales tenemos una unica columna object \"Review\" en el que se encuentra toda la información de la reseña escrita. Por otro lado, hay una unica columna númerica \"Class\" que guarda el nivel de satisfación del turista con base en la reseña."
      ]
    },
    {
      "cell_type": "code",
      "execution_count": 31,
      "metadata": {
        "colab": {
          "base_uri": "https://localhost:8080/",
          "height": 300
        },
        "id": "YAiv5v7BuEyT",
        "outputId": "912a92bf-1181-4065-cdb7-56529787ada0"
      },
      "outputs": [
        {
          "data": {
            "text/html": [
              "<div>\n",
              "<style scoped>\n",
              "    .dataframe tbody tr th:only-of-type {\n",
              "        vertical-align: middle;\n",
              "    }\n",
              "\n",
              "    .dataframe tbody tr th {\n",
              "        vertical-align: top;\n",
              "    }\n",
              "\n",
              "    .dataframe thead th {\n",
              "        text-align: right;\n",
              "    }\n",
              "</style>\n",
              "<table border=\"1\" class=\"dataframe\">\n",
              "  <thead>\n",
              "    <tr style=\"text-align: right;\">\n",
              "      <th></th>\n",
              "      <th>Class</th>\n",
              "    </tr>\n",
              "  </thead>\n",
              "  <tbody>\n",
              "    <tr>\n",
              "      <th>count</th>\n",
              "      <td>7875.000000</td>\n",
              "    </tr>\n",
              "    <tr>\n",
              "      <th>mean</th>\n",
              "      <td>3.502603</td>\n",
              "    </tr>\n",
              "    <tr>\n",
              "      <th>std</th>\n",
              "      <td>1.320435</td>\n",
              "    </tr>\n",
              "    <tr>\n",
              "      <th>min</th>\n",
              "      <td>1.000000</td>\n",
              "    </tr>\n",
              "    <tr>\n",
              "      <th>25%</th>\n",
              "      <td>3.000000</td>\n",
              "    </tr>\n",
              "    <tr>\n",
              "      <th>50%</th>\n",
              "      <td>4.000000</td>\n",
              "    </tr>\n",
              "    <tr>\n",
              "      <th>75%</th>\n",
              "      <td>5.000000</td>\n",
              "    </tr>\n",
              "    <tr>\n",
              "      <th>max</th>\n",
              "      <td>5.000000</td>\n",
              "    </tr>\n",
              "  </tbody>\n",
              "</table>\n",
              "</div>"
            ],
            "text/plain": [
              "             Class\n",
              "count  7875.000000\n",
              "mean      3.502603\n",
              "std       1.320435\n",
              "min       1.000000\n",
              "25%       3.000000\n",
              "50%       4.000000\n",
              "75%       5.000000\n",
              "max       5.000000"
            ]
          },
          "execution_count": 31,
          "metadata": {},
          "output_type": "execute_result"
        }
      ],
      "source": [
        "# Analizar distribución de la variable numerica\n",
        "\n",
        "df.describe()"
      ]
    },
    {
      "cell_type": "markdown",
      "metadata": {
        "id": "TC-YqZeFuEW7"
      },
      "source": [
        "Se identifica que class esta dentro de su rango adecuado, con 5 de valor maximo y 1 de valor minimo. Tocaria evaluar si esta es entera en todos los valores."
      ]
    },
    {
      "cell_type": "code",
      "execution_count": 32,
      "metadata": {
        "colab": {
          "base_uri": "https://localhost:8080/"
        },
        "id": "QnNm8SpysQbO",
        "outputId": "2489a30f-7fd1-4a42-a912-426c62103eca"
      },
      "outputs": [
        {
          "name": "stdout",
          "output_type": "stream",
          "text": [
            "Review    0\n",
            "Class     0\n",
            "dtype: int64\n"
          ]
        }
      ],
      "source": [
        "# Analizar la completitud de los datos\n",
        "\n",
        "print(df.isna().sum())"
      ]
    },
    {
      "cell_type": "markdown",
      "metadata": {
        "id": "BKCgoB-psRu2"
      },
      "source": [
        "Se observa que no hay ningún dato nulo en el conjunto de reseñas compartido"
      ]
    },
    {
      "cell_type": "code",
      "execution_count": 33,
      "metadata": {
        "colab": {
          "base_uri": "https://localhost:8080/"
        },
        "id": "YAiEhUNgV_Bx",
        "outputId": "8d503fb9-05c9-475f-9550-472f9014930b"
      },
      "outputs": [
        {
          "data": {
            "text/plain": [
              "73"
            ]
          },
          "execution_count": 33,
          "metadata": {},
          "output_type": "execute_result"
        }
      ],
      "source": [
        "# Analizar la unicidad de los datos\n",
        "\n",
        "df.duplicated().sum()"
      ]
    },
    {
      "cell_type": "markdown",
      "metadata": {
        "id": "BkbN6oWxucT_"
      },
      "source": [
        "Se observa que hay 73 reseñas duplicadas, es decir, 0.0093% de los datos se encuentran duplicados, por ende, se debe tratar estos datos."
      ]
    },
    {
      "cell_type": "code",
      "execution_count": 34,
      "metadata": {
        "colab": {
          "base_uri": "https://localhost:8080/",
          "height": 467
        },
        "id": "fsGQ5pYhWEKm",
        "outputId": "22754da0-0a4b-4c8d-f4ec-e3947d162c8e"
      },
      "outputs": [
        {
          "data": {
            "image/png": "[encoded data removed]",
            "text/plain": [
              "<Figure size 640x480 with 1 Axes>"
            ]
          },
          "metadata": {},
          "output_type": "display_data"
        }
      ],
      "source": [
        "# Analizar validez de la variable númerica\n",
        "\n",
        "df[\"Class\"].value_counts().plot(kind=\"bar\")\n",
        "plt.title(\"Class\")\n",
        "plt.show()"
      ]
    },
    {
      "cell_type": "markdown",
      "metadata": {
        "id": "m-s3fqPnufym"
      },
      "source": [
        "Para la columna \"Class\" se observa un correcta validez al tener datos unicamente en las 5 clases que hay númeradas del 1 al 5."
      ]
    },
    {
      "cell_type": "markdown",
      "metadata": {
        "id": "PDVBRAC4Z_d-"
      },
      "source": [
        "# **2. Preparación de los datos**"
      ]
    },
    {
      "cell_type": "markdown",
      "metadata": {
        "id": "8UubtPLbujBT"
      },
      "source": [
        "La preparación de los datos se va a dividir en tres etapas:\n",
        "\n",
        "*   Limpieza de los datos.\n",
        "*   Tokenización.\n",
        "*   Normalización (Vectorización).\n",
        "\n"
      ]
    },
    {
      "cell_type": "markdown",
      "metadata": {
        "id": "L1Xo6iucr30F"
      },
      "source": [
        "En esta parte lo que se hace es eliminar todo tipo de caracteres especiales y tener todas las palabras en minúscula"
      ]
    },
    {
      "cell_type": "markdown",
      "metadata": {
        "id": "5Ai5lDeCr4x5"
      },
      "source": [
        "Primero se instalan todas las librerías y dependencias necesarias"
      ]
    },
    {
      "cell_type": "code",
      "execution_count": 35,
      "metadata": {
        "id": "b0o0u2_YY_i5"
      },
      "outputs": [],
      "source": [
        "# Eliminación de datos duplicados\n",
        "\n",
        "#df = df.drop_duplicates(subset=[\"Review\"]) Error de ejecución que no se pudo debuggear"
      ]
    },
    {
      "cell_type": "code",
      "execution_count": 46,
      "metadata": {},
      "outputs": [],
      "source": [
        "\"\"\"\n",
        "Función para limpiar el texto.\n",
        "Eliminar signos de puntuación, caracteres especiales, tildes y\n",
        "convertir todo a minúsculas\n",
        "\"\"\"\n",
        "def limpiar_texto(texto):\n",
        "    texto = re.sub(r'@[A-Za-z0-9]+', '', texto)  \n",
        "    texto = re.sub(r'https?:\\/\\/\\S+', '', texto)  \n",
        "    texto = re.sub(r'[^\\w\\s]', '', texto)  \n",
        "    texto = unidecode(texto.lower())\n",
        "    return texto\n",
        "\n",
        "\"\"\"\n",
        "\"\"\"\n",
        "def tokenizar_texto(texto):\n",
        "    return word_tokenize(texto)\n",
        "\n",
        "\"\"\"\n",
        "Función para eliminar palabras vacías de una reseña,\n",
        "Separa la cadena en palabras, elimina las palabras vacías, y vuelve a unir\n",
        "\"\"\"\n",
        "def eliminar_stopwords(texto):\n",
        "    stop_words = set(stopwords.words(\"spanish\"))\n",
        "    palabras_relevantes = [\"no\", \"si\", \"bueno\", \"buenos\", \"buena\", \"buenas\", \"mal\", \"malo\", \"mala\", \"malos\", \"malas\",\n",
        "                           \"mejor\", \"peor\", \"feliz\", \"triste\", \"alegre\", \"enojado\", \"amor\", \"odio\", \"amistad\", \"ira\"]\n",
        "    stop_words.difference_update(palabras_relevantes)  # Eliminar las palabras relevantes de las stopwords\n",
        "    palabras_filtradas = [palabra for palabra in texto if palabra not in stop_words]\n",
        "    return palabras_filtradas\n",
        "\n",
        "\"\"\"\n",
        "Función para lematizar las palabras de una reseña,\n",
        "Separa la cadena en palabras, lematiza las palabras, y vuelve a unir\n",
        "\"\"\"\n",
        "def lematizar_texto(texto):\n",
        "    lemmatizer = WordNetLemmatizer()\n",
        "    palabras_lematizadas = [lemmatizer.lemmatize(palabra) for palabra in texto]\n",
        "    return palabras_lematizadas\n",
        "\n",
        "\"\"\"\n",
        "\"\"\"\n",
        "def stemming_texto(texto):\n",
        "    stemmer = SnowballStemmer('spanish')\n",
        "    palabras_stemming = [stemmer.stem(palabra) for palabra in texto]\n",
        "    return palabras_stemming\n",
        "\n",
        "\"\"\"\n",
        "Función para convertir números en su representación textual en español en una reseña\n",
        "\"\"\"\n",
        "def convertir_numeros_texto(texto):\n",
        "    texto_con_numeros_convertidos = [re.sub(r'\\b\\d+\\b', lambda x: num2words(int(x.group()), lang='es'), palabra) for palabra in texto]\n",
        "    return texto_con_numeros_convertidos\n",
        "\n",
        "\"\"\"\n",
        "\"\"\"\n",
        "def preparacion_nuevos_datos(textos):\n",
        "\n",
        "    textos_preparados = []\n",
        "\n",
        "    for texto in textos:\n",
        "        texto_limpio = limpiar_texto(texto)\n",
        "        palabras_tokenizadas = tokenizar_texto(texto_limpio)\n",
        "        palabras_sin_stopwords = eliminar_stopwords(palabras_tokenizadas)\n",
        "        palabras_lematizadas = lematizar_texto(palabras_sin_stopwords)\n",
        "        palabras_stemming = stemming_texto(palabras_lematizadas)\n",
        "        palabras_numeros_transformados = convertir_numeros_texto(palabras_stemming)\n",
        "        texto_preparado = ' '.join(palabras_numeros_transformados)\n",
        "        textos_preparados.append(texto_preparado)\n",
        "\n",
        "    return textos_preparados"
      ]
    },
    {
      "cell_type": "code",
      "execution_count": 37,
      "metadata": {
        "colab": {
          "base_uri": "https://localhost:8080/"
        },
        "id": "dXAwKYihZEi_",
        "outputId": "f7151abd-7115-4bcf-a7cf-cfd5e8b88d86"
      },
      "outputs": [
        {
          "name": "stdout",
          "output_type": "stream",
          "text": [
            "                                              Review  Class\n",
            "0  buen atencion aclar dud part senorit veron cas...      5\n",
            "1  buen hotel si estan oblig cerc centr convencio...      3\n",
            "2  lug lind fotografi visit selin music viv cerve...      5\n",
            "3  abus factur aliment siempr echan culp van busc...      3\n",
            "4  par person grup realment queri com cabrit rest...      3\n"
          ]
        }
      ],
      "source": [
        "df[\"Review\"] = preparacion_nuevos_datos(df[\"Review\"])\n",
        "print(df.head())"
      ]
    },
    {
      "cell_type": "code",
      "execution_count": 38,
      "metadata": {
        "colab": {
          "base_uri": "https://localhost:8080/",
          "height": 253
        },
        "id": "gSGMnPLoZL4a",
        "outputId": "1bd495f1-f1e3-433a-8daf-65ac41ffdaa9"
      },
      "outputs": [
        {
          "name": "stdout",
          "output_type": "stream",
          "text": [
            "(7875, 15245)\n"
          ]
        },
        {
          "data": {
            "text/html": [
              "<div>\n",
              "<style scoped>\n",
              "    .dataframe tbody tr th:only-of-type {\n",
              "        vertical-align: middle;\n",
              "    }\n",
              "\n",
              "    .dataframe tbody tr th {\n",
              "        vertical-align: top;\n",
              "    }\n",
              "\n",
              "    .dataframe thead th {\n",
              "        text-align: right;\n",
              "    }\n",
              "</style>\n",
              "<table border=\"1\" class=\"dataframe\">\n",
              "  <thead>\n",
              "    <tr style=\"text-align: right;\">\n",
              "      <th></th>\n",
              "      <th>0600am</th>\n",
              "      <th>0900hrs</th>\n",
              "      <th>0lleg</th>\n",
              "      <th>0me</th>\n",
              "      <th>1000am</th>\n",
              "      <th>1000p</th>\n",
              "      <th>100h</th>\n",
              "      <th>100pes</th>\n",
              "      <th>100val</th>\n",
              "      <th>100x100</th>\n",
              "      <th>...</th>\n",
              "      <th>zoofari</th>\n",
              "      <th>zoolog</th>\n",
              "      <th>zoom</th>\n",
              "      <th>zu</th>\n",
              "      <th>zuiz</th>\n",
              "      <th>zum</th>\n",
              "      <th>zumb</th>\n",
              "      <th>zur</th>\n",
              "      <th>zuzzet</th>\n",
              "      <th>Variable_Objetivo</th>\n",
              "    </tr>\n",
              "  </thead>\n",
              "  <tbody>\n",
              "    <tr>\n",
              "      <th>0</th>\n",
              "      <td>0.0</td>\n",
              "      <td>0.0</td>\n",
              "      <td>0.0</td>\n",
              "      <td>0.0</td>\n",
              "      <td>0.0</td>\n",
              "      <td>0.0</td>\n",
              "      <td>0.0</td>\n",
              "      <td>0.0</td>\n",
              "      <td>0.0</td>\n",
              "      <td>0.0</td>\n",
              "      <td>...</td>\n",
              "      <td>0.0</td>\n",
              "      <td>0.0</td>\n",
              "      <td>0.0</td>\n",
              "      <td>0.0</td>\n",
              "      <td>0.0</td>\n",
              "      <td>0.0</td>\n",
              "      <td>0.0</td>\n",
              "      <td>0.0</td>\n",
              "      <td>0.0</td>\n",
              "      <td>5</td>\n",
              "    </tr>\n",
              "    <tr>\n",
              "      <th>1</th>\n",
              "      <td>0.0</td>\n",
              "      <td>0.0</td>\n",
              "      <td>0.0</td>\n",
              "      <td>0.0</td>\n",
              "      <td>0.0</td>\n",
              "      <td>0.0</td>\n",
              "      <td>0.0</td>\n",
              "      <td>0.0</td>\n",
              "      <td>0.0</td>\n",
              "      <td>0.0</td>\n",
              "      <td>...</td>\n",
              "      <td>0.0</td>\n",
              "      <td>0.0</td>\n",
              "      <td>0.0</td>\n",
              "      <td>0.0</td>\n",
              "      <td>0.0</td>\n",
              "      <td>0.0</td>\n",
              "      <td>0.0</td>\n",
              "      <td>0.0</td>\n",
              "      <td>0.0</td>\n",
              "      <td>3</td>\n",
              "    </tr>\n",
              "    <tr>\n",
              "      <th>2</th>\n",
              "      <td>0.0</td>\n",
              "      <td>0.0</td>\n",
              "      <td>0.0</td>\n",
              "      <td>0.0</td>\n",
              "      <td>0.0</td>\n",
              "      <td>0.0</td>\n",
              "      <td>0.0</td>\n",
              "      <td>0.0</td>\n",
              "      <td>0.0</td>\n",
              "      <td>0.0</td>\n",
              "      <td>...</td>\n",
              "      <td>0.0</td>\n",
              "      <td>0.0</td>\n",
              "      <td>0.0</td>\n",
              "      <td>0.0</td>\n",
              "      <td>0.0</td>\n",
              "      <td>0.0</td>\n",
              "      <td>0.0</td>\n",
              "      <td>0.0</td>\n",
              "      <td>0.0</td>\n",
              "      <td>5</td>\n",
              "    </tr>\n",
              "    <tr>\n",
              "      <th>3</th>\n",
              "      <td>0.0</td>\n",
              "      <td>0.0</td>\n",
              "      <td>0.0</td>\n",
              "      <td>0.0</td>\n",
              "      <td>0.0</td>\n",
              "      <td>0.0</td>\n",
              "      <td>0.0</td>\n",
              "      <td>0.0</td>\n",
              "      <td>0.0</td>\n",
              "      <td>0.0</td>\n",
              "      <td>...</td>\n",
              "      <td>0.0</td>\n",
              "      <td>0.0</td>\n",
              "      <td>0.0</td>\n",
              "      <td>0.0</td>\n",
              "      <td>0.0</td>\n",
              "      <td>0.0</td>\n",
              "      <td>0.0</td>\n",
              "      <td>0.0</td>\n",
              "      <td>0.0</td>\n",
              "      <td>3</td>\n",
              "    </tr>\n",
              "    <tr>\n",
              "      <th>4</th>\n",
              "      <td>0.0</td>\n",
              "      <td>0.0</td>\n",
              "      <td>0.0</td>\n",
              "      <td>0.0</td>\n",
              "      <td>0.0</td>\n",
              "      <td>0.0</td>\n",
              "      <td>0.0</td>\n",
              "      <td>0.0</td>\n",
              "      <td>0.0</td>\n",
              "      <td>0.0</td>\n",
              "      <td>...</td>\n",
              "      <td>0.0</td>\n",
              "      <td>0.0</td>\n",
              "      <td>0.0</td>\n",
              "      <td>0.0</td>\n",
              "      <td>0.0</td>\n",
              "      <td>0.0</td>\n",
              "      <td>0.0</td>\n",
              "      <td>0.0</td>\n",
              "      <td>0.0</td>\n",
              "      <td>3</td>\n",
              "    </tr>\n",
              "  </tbody>\n",
              "</table>\n",
              "<p>5 rows × 15245 columns</p>\n",
              "</div>"
            ],
            "text/plain": [
              "   0600am  0900hrs  0lleg  0me  1000am  1000p  100h  100pes  100val  100x100  \\\n",
              "0     0.0      0.0    0.0  0.0     0.0    0.0   0.0     0.0     0.0      0.0   \n",
              "1     0.0      0.0    0.0  0.0     0.0    0.0   0.0     0.0     0.0      0.0   \n",
              "2     0.0      0.0    0.0  0.0     0.0    0.0   0.0     0.0     0.0      0.0   \n",
              "3     0.0      0.0    0.0  0.0     0.0    0.0   0.0     0.0     0.0      0.0   \n",
              "4     0.0      0.0    0.0  0.0     0.0    0.0   0.0     0.0     0.0      0.0   \n",
              "\n",
              "   ...  zoofari  zoolog  zoom   zu  zuiz  zum  zumb  zur  zuzzet  \\\n",
              "0  ...      0.0     0.0   0.0  0.0   0.0  0.0   0.0  0.0     0.0   \n",
              "1  ...      0.0     0.0   0.0  0.0   0.0  0.0   0.0  0.0     0.0   \n",
              "2  ...      0.0     0.0   0.0  0.0   0.0  0.0   0.0  0.0     0.0   \n",
              "3  ...      0.0     0.0   0.0  0.0   0.0  0.0   0.0  0.0     0.0   \n",
              "4  ...      0.0     0.0   0.0  0.0   0.0  0.0   0.0  0.0     0.0   \n",
              "\n",
              "   Variable_Objetivo  \n",
              "0                  5  \n",
              "1                  3  \n",
              "2                  5  \n",
              "3                  3  \n",
              "4                  3  \n",
              "\n",
              "[5 rows x 15245 columns]"
            ]
          },
          "execution_count": 38,
          "metadata": {},
          "output_type": "execute_result"
        }
      ],
      "source": [
        "\"\"\"\n",
        "Función para vectorizar las palabras de las review\n",
        "\"\"\"\n",
        "tfidf_vectorizer = TfidfVectorizer()\n",
        "\n",
        "def crear_matriz_TFIDF(df):\n",
        "    tfidf_matrix = tfidf_vectorizer.fit_transform(df['Review'])\n",
        "    feature_names = tfidf_vectorizer.get_feature_names_out()\n",
        "    df_tfidf = pd.DataFrame(tfidf_matrix.toarray(), columns=feature_names)\n",
        "    df_tfidf['Variable_Objetivo'] = df['Class']\n",
        "    return df_tfidf\n",
        "\n",
        "df_tfidf = crear_matriz_TFIDF(df)\n",
        "print(df_tfidf.shape)\n",
        "df_tfidf.head()"
      ]
    },
    {
      "cell_type": "code",
      "execution_count": 52,
      "metadata": {
        "id": "DwVoQdv2OVRi"
      },
      "outputs": [],
      "source": [
        "X_data = df_tfidf.drop(columns=[\"Variable_Objetivo\"])\n",
        "Y_data = df_tfidf[\"Variable_Objetivo\"]"
      ]
    },
    {
      "cell_type": "code",
      "execution_count": 53,
      "metadata": {},
      "outputs": [
        {
          "name": "stdout",
          "output_type": "stream",
          "text": [
            "Distribución de clases antes de SMOTE: Counter({5: 2361, 4: 1977, 3: 1574, 2: 1185, 1: 778})\n",
            "Distribución de clases después de SMOTE: Counter({5: 2361, 3: 2361, 4: 2361, 2: 2361, 1: 2361})\n"
          ]
        }
      ],
      "source": [
        "from collections import Counter\n",
        "\n",
        "# Instancia el objeto SMOTE\n",
        "smote = SMOTE(random_state=42)\n",
        "\n",
        "print(\"Distribución de clases antes de SMOTE:\", Counter(Y_data))\n",
        "\n",
        "# Aplica SMOTE para generar nuevas muestras sintéticas\n",
        "X_data, Y_data = smote.fit_resample(X_data, Y_data)\n",
        "\n",
        "# Después de aplicar SMOTE, verifica la distribución de clases\n",
        "print(\"Distribución de clases después de SMOTE:\", Counter(Y_data))"
      ]
    },
    {
      "cell_type": "markdown",
      "metadata": {
        "id": "TK-IQdQfRXMU"
      },
      "source": [
        "# **3. Creación del modelo**"
      ]
    },
    {
      "cell_type": "markdown",
      "metadata": {
        "id": "RwsELwrJTjP9"
      },
      "source": [
        "### **Modelo para el algoritmo de Regresión Logistica Multinomial (Jefferson Hernandez - 202120242)**"
      ]
    },
    {
      "cell_type": "code",
      "execution_count": 54,
      "metadata": {
        "colab": {
          "base_uri": "https://localhost:8080/",
          "height": 588
        },
        "id": "qT6786VsTyvc",
        "outputId": "3e9d3f36-f706-4f41-d351-92a9336c3644"
      },
      "outputs": [
        {
          "data": {
            "image/png": "[encoded data removed]",
            "text/plain": [
              "<Figure size 640x480 with 2 Axes>"
            ]
          },
          "metadata": {},
          "output_type": "display_data"
        }
      ],
      "source": [
        "# Dividir los datos en conjunto de entrenamiento y conjunto de prueba\n",
        "X_train, X_test, Y_train, Y_test = train_test_split(X_data, Y_data, test_size=0.2, random_state=42)\n",
        "\n",
        "# Inicializar el modelo de regresión logística multinomial\n",
        "modelo_reg_log_multinomial = LogisticRegression(multi_class=\"multinomial\", solver=\"lbfgs\")\n",
        "\n",
        "# Entrenar el modelo con los datos de entrenamiento\n",
        "modelo_reg_log_multinomial.fit(X_train, Y_train)\n",
        "\n",
        "# Predecir las clases en el conjunto de prueba\n",
        "predicciones = modelo_reg_log_multinomial.predict(X_test)\n",
        "\n",
        "# Visualiza la matriz de confusión\n",
        "cm = confusion_matrix(Y_test, predicciones)\n",
        "disp = ConfusionMatrixDisplay(confusion_matrix=cm)\n",
        "disp.plot()\n",
        "plt.show()"
      ]
    },
    {
      "cell_type": "code",
      "execution_count": 56,
      "metadata": {
        "colab": {
          "base_uri": "https://localhost:8080/"
        },
        "id": "yAS6KvVX-VFv",
        "outputId": "7de944f1-bad7-4fbb-a2d4-da3fbfe4a0e0"
      },
      "outputs": [
        {
          "name": "stdout",
          "output_type": "stream",
          "text": [
            "              precision    recall  f1-score   support\n",
            "\n",
            "           1       0.80      0.89      0.84       481\n",
            "           2       0.73      0.69      0.71       470\n",
            "           3       0.60      0.56      0.58       459\n",
            "           4       0.54      0.52      0.53       473\n",
            "           5       0.63      0.65      0.64       478\n",
            "\n",
            "    accuracy                           0.66      2361\n",
            "   macro avg       0.66      0.66      0.66      2361\n",
            "weighted avg       0.66      0.66      0.66      2361\n",
            "\n"
          ]
        }
      ],
      "source": [
        "# Mostrar el reporte de clasificación\n",
        "\n",
        "print(classification_report(Y_test, predicciones))"
      ]
    },
    {
      "cell_type": "markdown",
      "metadata": {
        "id": "AE-RqTo8ZhE3"
      },
      "source": [
        "### **Modelo para el algoritmo de arboles de decisión (Samuel Goncalves - 202122595)**"
      ]
    },
    {
      "cell_type": "code",
      "execution_count": null,
      "metadata": {
        "colab": {
          "base_uri": "https://localhost:8080/",
          "height": 455
        },
        "id": "u44Fji1nRa10",
        "outputId": "898a7e7d-ec11-46ca-92bd-3bd1b14e5295"
      },
      "outputs": [
        {
          "data": {
            "image/png": "[encoded data removed]",
            "text/plain": [
              "<Figure size 640x480 with 2 Axes>"
            ]
          },
          "metadata": {},
          "output_type": "display_data"
        }
      ],
      "source": [
        "# Dividir datos en entrenamiento (80%) y test (20%)\n",
        "X_train, X_test, Y_train, Y_test = train_test_split(X_data, Y_data, train_size = 0.8, random_state=1234, shuffle=True)\n",
        "\n",
        "# Crear el objeto de arbol de decisión utilizando como criterio de pureza la entropía\n",
        "arbol = DecisionTreeClassifier(criterion=\"entropy\", random_state=0)\n",
        "\n",
        "# Entrenar el modelo con los datos de entrenamiento\n",
        "arbol = arbol.fit(X_train, Y_train)\n",
        "\n",
        "# Determinar las predicciones del modelo sobre el conjunto de prueba\n",
        "Y_pred = arbol.predict(X_test)\n",
        "\n",
        "# Generar matriz de confusión\n",
        "confusion_matrix(Y_test, Y_pred)\n",
        "\n",
        "Y_pred = arbol.predict(X_test)\n",
        "\n",
        "# Calcula la matriz de confusión\n",
        "cm = confusion_matrix(Y_test, Y_pred)\n",
        "\n",
        "# Visualiza la matriz de confusión\n",
        "disp = ConfusionMatrixDisplay(confusion_matrix=cm)\n",
        "disp.plot()\n",
        "plt.show()"
      ]
    },
    {
      "cell_type": "code",
      "execution_count": null,
      "metadata": {
        "colab": {
          "base_uri": "https://localhost:8080/"
        },
        "id": "Xvs94qxqSQ5H",
        "outputId": "b3fb51ba-a8b2-45ba-e520-4d9130ba68ab"
      },
      "outputs": [
        {
          "name": "stdout",
          "output_type": "stream",
          "text": [
            "              precision    recall  f1-score   support\n",
            "\n",
            "           1       0.33      0.32      0.32       146\n",
            "           2       0.27      0.26      0.26       243\n",
            "           3       0.25      0.24      0.24       332\n",
            "           4       0.28      0.29      0.28       371\n",
            "           5       0.49      0.52      0.50       483\n",
            "\n",
            "    accuracy                           0.34      1575\n",
            "   macro avg       0.32      0.32      0.32      1575\n",
            "weighted avg       0.34      0.34      0.34      1575\n",
            "\n"
          ]
        }
      ],
      "source": [
        "# Mostrar reporte de clasificación\n",
        "\n",
        "print(classification_report(Y_test, Y_pred))"
      ]
    },
    {
      "cell_type": "markdown",
      "metadata": {
        "id": "Fn7UdcsfoeMr"
      },
      "source": [
        "### **Modelo para el algoritmo de Maquinas de Vector de Soporte [SVM] (Ronald Pardo Diaz - 202111309)**"
      ]
    },
    {
      "cell_type": "code",
      "execution_count": null,
      "metadata": {
        "colab": {
          "base_uri": "https://localhost:8080/",
          "height": 449
        },
        "id": "wYcdcFfYu_Mh",
        "outputId": "0099ec8a-1225-429c-f6dd-222193310a5c"
      },
      "outputs": [
        {
          "data": {
            "image/png": "[encoded data removed]",
            "text/plain": [
              "<Figure size 640x480 with 2 Axes>"
            ]
          },
          "metadata": {},
          "output_type": "display_data"
        }
      ],
      "source": [
        "# Dividir datos en entrenamiento y prueba\n",
        "\n",
        "X_train, X_test, Y_train, Y_test = train_test_split(X_data, Y_data, test_size=0.2, random_state=42)\n",
        "\n",
        "# Creación y entrenamiento del modelo SVM\n",
        "svm_model = SVC(kernel='linear', C=1.0)\n",
        "svm_model.fit(X_train, Y_train)\n",
        "\n",
        "# Evaluación del modelo\n",
        "Y_pred = svm_model.predict(X_test)\n",
        "\n",
        "# Calcula la matriz de confusión\n",
        "cm = confusion_matrix(Y_test, Y_pred)\n",
        "\n",
        "# Visualiza la matriz de confusión\n",
        "disp = ConfusionMatrixDisplay(confusion_matrix=cm)\n",
        "disp.plot()\n",
        "plt.show()"
      ]
    },
    {
      "cell_type": "code",
      "execution_count": null,
      "metadata": {
        "colab": {
          "base_uri": "https://localhost:8080/"
        },
        "id": "AQSjxzzJ_ry-",
        "outputId": "ef040983-1628-4dba-99db-5df9ca344c22"
      },
      "outputs": [
        {
          "name": "stdout",
          "output_type": "stream",
          "text": [
            "              precision    recall  f1-score   support\n",
            "\n",
            "           1       0.52      0.33      0.40       161\n",
            "           2       0.40      0.38      0.39       227\n",
            "           3       0.40      0.40      0.40       299\n",
            "           4       0.44      0.43      0.43       401\n",
            "           5       0.59      0.68      0.63       487\n",
            "\n",
            "    accuracy                           0.49      1575\n",
            "   macro avg       0.47      0.45      0.45      1575\n",
            "weighted avg       0.48      0.49      0.48      1575\n",
            "\n"
          ]
        }
      ],
      "source": [
        "# Mostrar reporte de clasificación\n",
        "\n",
        "print(classification_report(Y_test, Y_pred))"
      ]
    },
    {
      "cell_type": "code",
      "execution_count": null,
      "metadata": {},
      "outputs": [],
      "source": [
        "# Convierte la matriz dispersa a una matriz densa antes de usar argsort()\n",
        "sorted_coef_index = svm_model.coef_[0].argsort()\n",
        "\n",
        "feature_names = np.array(X_data.columns)\n",
        "\n",
        "# Obtener las 10 características más negativas y más positivas\n",
        "print('Las 30 características más positivas: \\n{}\\n'.format(feature_names[sorted_coef_index[:30]]))\n",
        "print('Las 30 características más negativas: \\n{}'.format(feature_names[sorted_coef_index[:-31:-1]]))"
      ]
    },
    {
      "cell_type": "markdown",
      "metadata": {
        "id": "el91Fsjexg-n"
      },
      "source": [
        "# **4. Clasificación nuevos datos**"
      ]
    },
    {
      "cell_type": "code",
      "execution_count": 57,
      "metadata": {
        "colab": {
          "base_uri": "https://localhost:8080/"
        },
        "id": "41tQ4wI7xk-L",
        "outputId": "9f365449-21a5-4ec1-d96f-e354c5a961fb"
      },
      "outputs": [
        {
          "data": {
            "text/plain": [
              "['../data/modelo_pipeline.joblib']"
            ]
          },
          "execution_count": 57,
          "metadata": {},
          "output_type": "execute_result"
        }
      ],
      "source": [
        "# Se crea el pipeline\n",
        "pipeline = Pipeline([\n",
        "    (\"vectorizacion\", tfidf_vectorizer),\n",
        "    (\"clasificacion\", modelo_reg_log_multinomial)\n",
        "])\n",
        "\n",
        "# Guardar el pipeline en un archivo utilizando joblib\n",
        "joblib.dump(pipeline, \"../data/modelo_pipeline.joblib\")"
      ]
    },
    {
      "cell_type": "code",
      "execution_count": 60,
      "metadata": {},
      "outputs": [
        {
          "name": "stderr",
          "output_type": "stream",
          "text": [
            "c:\\Users\\HP\\AppData\\Local\\Programs\\Python\\Python311\\Lib\\site-packages\\sklearn\\base.py:493: UserWarning: X does not have valid feature names, but LogisticRegression was fitted with feature names\n",
            "  warnings.warn(\n"
          ]
        }
      ],
      "source": [
        "# Cargar datos nuevos\n",
        "datos_nuevos_original = pd.read_csv(\"../data/particion_prueba_estudiantes.csv\")\n",
        "datos_nuevos = datos_nuevos_original.copy()\n",
        "\n",
        "# Predicción con el pipeline con todo el proceso de preprocesamiento de datos y predicción con el modelo\n",
        "predictions = pipeline.predict(preparacion_nuevos_datos(datos_nuevos[\"Review\"]))\n",
        "\n",
        "# Crear un nuevo DataFrame con las predicciones\n",
        "predicciones_df = pd.DataFrame({\"Review\": datos_nuevos_original[\"Review\"], \"Class\": predictions})\n",
        "predicciones_df.to_csv(\"../data/particion_prueba_estudiantes_predicciones.csv\", index=False)"
      ]
    }
  ],
  "metadata": {
    "colab": {
      "provenance": []
    },
    "kernelspec": {
      "display_name": "Python 3",
      "name": "python3"
    },
    "language_info": {
      "codemirror_mode": {
        "name": "ipython",
        "version": 3
      },
      "file_extension": ".py",
      "mimetype": "text/x-python",
      "name": "python",
      "nbconvert_exporter": "python",
      "pygments_lexer": "ipython3",
      "version": "3.11.4"
    }
  },
  "nbformat": 4,
  "nbformat_minor": 0
}
